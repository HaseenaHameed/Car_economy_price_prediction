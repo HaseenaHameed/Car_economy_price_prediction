{
  "nbformat": 4,
  "nbformat_minor": 0,
  "metadata": {
    "colab": {
      "provenance": [],
      "authorship_tag": "ABX9TyP8jtLyZb1iNianLCFUeTc9",
      "include_colab_link": true
    },
    "kernelspec": {
      "name": "python3",
      "display_name": "Python 3"
    },
    "language_info": {
      "name": "python"
    }
  },
  "cells": [
    {
      "cell_type": "markdown",
      "metadata": {
        "id": "view-in-github",
        "colab_type": "text"
      },
      "source": [
        "<a href=\"https://colab.research.google.com/github/HaseenaHameed/Car_economy_price_prediction/blob/main/Car_economy_pred.ipynb\" target=\"_parent\"><img src=\"https://colab.research.google.com/assets/colab-badge.svg\" alt=\"Open In Colab\"/></a>"
      ]
    },
    {
      "cell_type": "code",
      "execution_count": null,
      "metadata": {
        "id": "7LME17J-1Zvk"
      },
      "outputs": [],
      "source": [
        "# training data = car economy price\n",
        "# testing data = test_data"
      ]
    },
    {
      "cell_type": "code",
      "source": [
        "#Loading dataset to pandas DataFrame\n",
        "import numpy as np\n",
        "import pandas as pd\n",
        "df=pd.read_csv(\"/content/car economy price.csv\")\n",
        "df"
      ],
      "metadata": {
        "id": "CV1h6brO1kCd"
      },
      "execution_count": null,
      "outputs": []
    },
    {
      "cell_type": "code",
      "source": [
        "df.head()"
      ],
      "metadata": {
        "id": "JMHwknrM1kNB"
      },
      "execution_count": null,
      "outputs": []
    },
    {
      "cell_type": "code",
      "source": [
        "df,tail()"
      ],
      "metadata": {
        "id": "gdh2ToHs2DiP"
      },
      "execution_count": null,
      "outputs": []
    },
    {
      "cell_type": "code",
      "source": [
        "df.columns"
      ],
      "metadata": {
        "id": "rDM4wvUk2FKy"
      },
      "execution_count": null,
      "outputs": []
    },
    {
      "cell_type": "code",
      "source": [
        "df.shape"
      ],
      "metadata": {
        "id": "mwHFfEe-2NXw"
      },
      "execution_count": null,
      "outputs": []
    },
    {
      "cell_type": "code",
      "source": [
        "# count of each name\n",
        "\n",
        "df['Name'].value_counts()"
      ],
      "metadata": {
        "id": "Iqs04VlE2OPO"
      },
      "execution_count": null,
      "outputs": []
    },
    {
      "cell_type": "code",
      "source": [
        "# count of each location\n",
        "loc=df['Location'].value_counts()\n",
        "import matplotlib.pyplot as plt\n",
        "my_label=['Mumbai','Hyderabad','Kochi','Coimbatore','Pune','Delhi','Kolkata','Chennai','Jaipur','Bangalore','Ahmedabad']\n",
        "plt.pie(loc,labels=my_label)\n",
        "plt.pie(loc)"
      ],
      "metadata": {
        "id": "21lnGXac2hVD"
      },
      "execution_count": null,
      "outputs": []
    },
    {
      "cell_type": "code",
      "source": [
        "# count of each fuel_type\n",
        "fuel=df['Fuel_Type'].value_counts()\n",
        "fuel\n",
        "my_label=['Diesel','Petrol','CNG','LPG','Electric']\n",
        "plt.pie(fuel,labels=my_label)"
      ],
      "metadata": {
        "id": "IUARe6XY2y0F"
      },
      "execution_count": null,
      "outputs": []
    },
    {
      "cell_type": "code",
      "source": [
        "# count of each Transmission\n",
        "trans=df['Transmission'].value_counts()\n",
        "my_label=['Manual','Automatic']\n",
        "plt.pie(trans,labels=my_label)"
      ],
      "metadata": {
        "id": "mU1Oc2Zt27vw"
      },
      "execution_count": null,
      "outputs": []
    },
    {
      "cell_type": "code",
      "source": [
        "# count of each owner_type\n",
        "owner=df['Owner_Type'].value_counts()\n",
        "my_label=['First','Second','Third','Fourth & Above ']\n",
        "plt.pie(owner,labels=my_label)"
      ],
      "metadata": {
        "id": "R8MbPCZh3N_B"
      },
      "execution_count": null,
      "outputs": []
    },
    {
      "cell_type": "code",
      "source": [
        "# Get dummy encoding\n",
        "dummy=pd.get_dummies(df[['Location','Fuel_Type','Transmission','Owner_Type']],drop_first=True)\n",
        "dummy"
      ],
      "metadata": {
        "id": "N5Ap-hSF3mGU"
      },
      "execution_count": null,
      "outputs": []
    },
    {
      "cell_type": "code",
      "source": [
        "# Concatenation\n",
        "df1=pd.concat([df,dummy],axis=1)\n",
        "df1"
      ],
      "metadata": {
        "id": "OUf3Gseg3p6r"
      },
      "execution_count": null,
      "outputs": []
    },
    {
      "cell_type": "code",
      "source": [
        "# drop\n",
        "dfe=df1.drop((['Unnamed: 0', 'Name', 'Location','Fuel_Type', 'Transmission', 'Owner_Type','New_Price']),axis=1)\n",
        "dfe"
      ],
      "metadata": {
        "id": "RAnuWmPy35cq"
      },
      "execution_count": null,
      "outputs": []
    },
    {
      "cell_type": "code",
      "source": [
        "# Replace string\n",
        "dfe['Mileage']=dfe['Mileage'].str.replace('km/kg','')\n",
        "dfe['Mileage']=dfe['Mileage'].str.replace('kmpl','')\n",
        "dfe['Power']=dfe['Power'].str.replace('bhp','')\n",
        "dfe['Engine']=dfe['Engine'].str.replace('CC','')\n",
        "dfe"
      ],
      "metadata": {
        "id": "BRS_BBDP4K3K"
      },
      "execution_count": null,
      "outputs": []
    },
    {
      "cell_type": "code",
      "source": [
        "# in mileage there is some 'null' values\n",
        "# replace null ====> 0\n",
        "dfe['Mileage']=dfe['Mileage'].str.replace('null','0')\n",
        "dfe['Power']=dfe['Power'].str.replace('null','0') \n",
        "dfe['Engine']=dfe['Engine'].str.replace('null','0')"
      ],
      "metadata": {
        "id": "_tcOxXPh4QOG"
      },
      "execution_count": null,
      "outputs": []
    },
    {
      "cell_type": "code",
      "source": [
        "dfe.dtypes"
      ],
      "metadata": {
        "id": "_youLuP04Q8v"
      },
      "execution_count": null,
      "outputs": []
    },
    {
      "cell_type": "code",
      "source": [
        "# CONVERT \n",
        "# mileage,engine,power ===> float\n",
        "dfe['Mileage']=dfe['Mileage'].astype(float)\n",
        "dfe['Engine']=dfe['Engine'].astype(float)\n",
        "dfe['Power']=dfe['Power'].astype(float)\n",
        "dfe.dtypes"
      ],
      "metadata": {
        "id": "uN_fTbGj4VsH"
      },
      "execution_count": null,
      "outputs": []
    },
    {
      "cell_type": "code",
      "source": [
        "# Mileage power Engine  - null ===> 0\n",
        "# but mileage power engine will never be 0 so we give Nan(not a number) \n",
        "dfe.loc[dfe.Engine==0,'Engine']=np.NaN\n",
        "dfe.loc[dfe.Power==0,'Power']==np.NaN\n",
        "dfe.loc[dfe.Mileage==0,'Mileage']==np.NaN"
      ],
      "metadata": {
        "id": "rgO1MOHi4aj0"
      },
      "execution_count": null,
      "outputs": []
    },
    {
      "cell_type": "code",
      "source": [
        "dfe.isna().sum()"
      ],
      "metadata": {
        "id": "kYXOi6N-4ifW"
      },
      "execution_count": null,
      "outputs": []
    },
    {
      "cell_type": "code",
      "source": [
        "# fill missing value\n",
        "dfe['Engine']=dfe['Engine'].fillna(dfe['Engine'].mean())\n",
        "dfe['Power']=dfe['Power'].fillna(dfe['Power'].mean())\n",
        "dfe['Mileage']=dfe['Mileage'].fillna(dfe['Mileage'].mean())\n",
        "dfe['Seats']=dfe['Seats'].fillna(dfe['Seats'].mode()[0])\n",
        "dfe.isna().sum()"
      ],
      "metadata": {
        "id": "oWLXwrBl4nQS"
      },
      "execution_count": null,
      "outputs": []
    },
    {
      "cell_type": "code",
      "source": [
        "# seperate x and y\n",
        "x=dfe.drop(['Price'],axis=1)\n",
        "y=dfe['Price']\n",
        "y"
      ],
      "metadata": {
        "id": "ZGCqEmX443G2"
      },
      "execution_count": null,
      "outputs": []
    },
    {
      "cell_type": "code",
      "source": [
        "# drop electic \n",
        "x=x.drop(['Fuel_Type_Electric'],axis=1)\n",
        "x"
      ],
      "metadata": {
        "id": "E_JM5XD65KI1"
      },
      "execution_count": null,
      "outputs": []
    },
    {
      "cell_type": "code",
      "source": [
        "# testing data\n",
        "import numpy as np\n",
        "import pandas as pd\n",
        "df2=pd.read_csv(\"/content/test-data.csv\")\n",
        "df2"
      ],
      "metadata": {
        "id": "wTsX3SRX5Qa5"
      },
      "execution_count": null,
      "outputs": []
    },
    {
      "cell_type": "code",
      "source": [
        "df2.head()"
      ],
      "metadata": {
        "id": "UjvwHpUU6LeW"
      },
      "execution_count": null,
      "outputs": []
    },
    {
      "cell_type": "code",
      "source": [
        "df2.tail()"
      ],
      "metadata": {
        "id": "WeH75wiW6QSs"
      },
      "execution_count": null,
      "outputs": []
    },
    {
      "cell_type": "code",
      "source": [
        "df2.shape"
      ],
      "metadata": {
        "id": "vrcao-0G6R2i"
      },
      "execution_count": null,
      "outputs": []
    },
    {
      "cell_type": "code",
      "source": [
        "df2.isna().sum()"
      ],
      "metadata": {
        "id": "WzNvdCx96WPI"
      },
      "execution_count": null,
      "outputs": []
    },
    {
      "cell_type": "code",
      "source": [
        "# count of each name \n",
        "name=df2['Name'].value_counts()\n",
        "name"
      ],
      "metadata": {
        "id": "RKAxWo5P6ZQa"
      },
      "execution_count": null,
      "outputs": []
    },
    {
      "cell_type": "code",
      "source": [
        "# count of each location\n",
        "loc=df2['Location'].value_counts()\n",
        "loc"
      ],
      "metadata": {
        "id": "CvMDyeuv6fv9"
      },
      "execution_count": null,
      "outputs": []
    },
    {
      "cell_type": "code",
      "source": [
        "# count of each transmission\n",
        "trans=df2['Transmission'].value_counts()\n",
        "trans"
      ],
      "metadata": {
        "id": "PJ-gs4qm6qMN"
      },
      "execution_count": null,
      "outputs": []
    },
    {
      "cell_type": "code",
      "source": [
        "# count of each owner_type\n",
        "owner=df2['Owner_Type'].value_counts()\n",
        "owner"
      ],
      "metadata": {
        "id": "8xAAmP9H6qu_"
      },
      "execution_count": null,
      "outputs": []
    },
    {
      "cell_type": "code",
      "source": [
        "# count of each fuel_type\n",
        "fuel=df2['Fuel_Type'].value_counts()\n",
        "fuel"
      ],
      "metadata": {
        "id": "bsCe2cl97nB5"
      },
      "execution_count": null,
      "outputs": []
    },
    {
      "cell_type": "code",
      "source": [
        "# Get dummy\n",
        "dummy=pd.get_dummies(df2[['Location','Fuel_Type','Transmission','Owner_Type']],drop_first=True)\n",
        "dummy"
      ],
      "metadata": {
        "id": "K3rWRPtf6tC2"
      },
      "execution_count": null,
      "outputs": []
    },
    {
      "cell_type": "code",
      "source": [
        "# concatenation\n",
        "df3=pd.concat([df2,dummy],axis=1)\n",
        "df3"
      ],
      "metadata": {
        "id": "s710GGPU8gFh"
      },
      "execution_count": null,
      "outputs": []
    },
    {
      "cell_type": "code",
      "source": [
        "# drop\n",
        "df4=df3.drop((['Unnamed: 0', 'Name', 'Location','Fuel_Type', 'Transmission', 'Owner_Type','New_Price']),axis=1)\n",
        "df4"
      ],
      "metadata": {
        "id": "3gsbcFr59J1k"
      },
      "execution_count": null,
      "outputs": []
    },
    {
      "cell_type": "code",
      "source": [
        "# Replace string\n",
        "df4['Mileage']=df4['Mileage'].str.replace('km/kg','')\n",
        "df4['Mileage']=df4['Mileage'].str.replace('kmpl','')\n",
        "df4['Power']=df4['Power'].str.replace('bhp','')\n",
        "df4['Engine']=df4['Engine'].str.replace('CC','')\n",
        "df4"
      ],
      "metadata": {
        "id": "nmGZRk_b9eja"
      },
      "execution_count": null,
      "outputs": []
    },
    {
      "cell_type": "code",
      "source": [
        "# in mileage there is some 'null' values\n",
        "# replace null ====> 0\n",
        "df4['Mileage']=df4['Mileage'].str.replace('null','0')\n",
        "df4['Power']=df4['Power'].str.replace('null','0') \n",
        "df4['Engine']=df4['Engine'].str.replace('null','0')"
      ],
      "metadata": {
        "id": "SUc5c-IO9lRI"
      },
      "execution_count": null,
      "outputs": []
    },
    {
      "cell_type": "code",
      "source": [
        "df4.isna().sum()"
      ],
      "metadata": {
        "id": "NV79_8OV9p8D"
      },
      "execution_count": null,
      "outputs": []
    },
    {
      "cell_type": "code",
      "source": [
        "# CONVERT \n",
        "# mileage,engine,power ===> float\n",
        "df4['Mileage']=df4['Mileage'].astype(float)\n",
        "df4['Engine']=df4['Engine'].astype(float)\n",
        "df4['Power']=df4['Power'].astype(float)\n",
        "df4.dtypes"
      ],
      "metadata": {
        "id": "aPEOUxVtAbL4"
      },
      "execution_count": null,
      "outputs": []
    },
    {
      "cell_type": "code",
      "source": [
        "# Mileage power Engine  - null ===> 0\n",
        "# but mileage power engine will never be 0 so we give Nan(not a number) \n",
        "df4.loc[df4.Engine==0,'Engine']=np.NaN\n",
        "df4.loc[df4.Power==0,'Power']==np.NaN\n",
        "df4.loc[df4.Mileage==0,'Mileage']==np.NaN"
      ],
      "metadata": {
        "id": "Urtl6ZfYAjA_"
      },
      "execution_count": null,
      "outputs": []
    },
    {
      "cell_type": "code",
      "source": [
        "# fill missing value\n",
        "df4['Engine']=df4['Engine'].fillna(dfe['Engine'].mean())\n",
        "df4['Power']=df4['Power'].fillna(dfe['Power'].mean())\n",
        "df4['Mileage']=df4['Mileage'].fillna(dfe['Mileage'].mean())\n",
        "df4['Seats']=df4['Seats'].fillna(dfe['Seats'].mode()[0])\n",
        "df4.isna().sum()"
      ],
      "metadata": {
        "id": "LNZq02RCAulO"
      },
      "execution_count": null,
      "outputs": []
    },
    {
      "cell_type": "code",
      "source": [
        " w = df4\n",
        " w"
      ],
      "metadata": {
        "id": "_yBHuiv5A1OQ"
      },
      "execution_count": null,
      "outputs": []
    },
    {
      "cell_type": "code",
      "source": [
        "#prediction by Linear regression model \n",
        "from sklearn.linear_model import LinearRegression\n",
        "model=LinearRegression()\n",
        "model.fit(x,y)\n",
        "y_pred=model.predict(w)\n",
        "y_pred"
      ],
      "metadata": {
        "id": "HGFcE3nvC8Mn"
      },
      "execution_count": null,
      "outputs": []
    }
  ]
}